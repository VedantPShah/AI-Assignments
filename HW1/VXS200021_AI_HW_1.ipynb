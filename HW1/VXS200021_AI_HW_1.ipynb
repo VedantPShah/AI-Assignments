{
 "cells": [
  {
   "cell_type": "code",
   "execution_count": null,
   "id": "7cdcafaf",
   "metadata": {},
   "outputs": [],
   "source": [
    "#Name: Vedant Paresh Shah\n",
    "#NET ID: VXS200021\n",
    "#Subject: AI CS6364.002"
   ]
  },
  {
   "cell_type": "markdown",
   "id": "5f636d6c",
   "metadata": {},
   "source": [
    "# Task 1: Test Python Environment"
   ]
  },
  {
   "cell_type": "code",
   "execution_count": 156,
   "id": "a1bf7e22",
   "metadata": {},
   "outputs": [
    {
     "name": "stdout",
     "output_type": "stream",
     "text": [
      "hello world\n"
     ]
    }
   ],
   "source": [
    "def task1( ):\n",
    "    print(\"hello world\")\n",
    "if __name__ == '__main__':\n",
    "    task1()"
   ]
  },
  {
   "cell_type": "markdown",
   "id": "ff58cd04",
   "metadata": {},
   "source": [
    "# Task 2: Define Object"
   ]
  },
  {
   "cell_type": "code",
   "execution_count": 152,
   "id": "79098f95",
   "metadata": {},
   "outputs": [
    {
     "name": "stdout",
     "output_type": "stream",
     "text": [
      "[1, 2, 3, 4, 5]\n"
     ]
    }
   ],
   "source": [
    "#Task 2: Define Object\n",
    "def task2(a):\n",
    "    return a\n",
    "items =  [1, 2, 3, 4, 5]\n",
    "ans = []\n",
    "for i in items:\n",
    "    x = task2(i)\n",
    "    ans.append(x)\n",
    "print(ans)"
   ]
  },
  {
   "cell_type": "markdown",
   "id": "c7e35c4f",
   "metadata": {},
   "source": [
    "# Task 3: File Reading"
   ]
  },
  {
   "cell_type": "code",
   "execution_count": 188,
   "id": "983be707",
   "metadata": {},
   "outputs": [
    {
     "name": "stdout",
     "output_type": "stream",
     "text": [
      "[1, 2, 3, 4, 5]\n",
      "[6, 7, 8, 9, 10]\n"
     ]
    }
   ],
   "source": [
    "#Task 3: File Reading\n",
    "path = '/Users/vedantshah/Desktop/AI CS6364/task3.data.txt'\n",
    "with open(path, 'w') as f:\n",
    "    f.write('1 2 3 4 5 6 7 8 9 10')\n",
    "    f.close()\n",
    "f = open(path, 'r')\n",
    "items1 = []\n",
    "items2 = []\n",
    "for i in f.read().split(\" \"):\n",
    "    i = int(i)\n",
    "    if i<= 5:\n",
    "        items1.append(i)\n",
    "    else:\n",
    "        items2.append(i)\n",
    "\n",
    "print(items1)\n",
    "print(items2)"
   ]
  },
  {
   "cell_type": "markdown",
   "id": "59657d88",
   "metadata": {},
   "source": [
    "# Task 4: Data Structure"
   ]
  },
  {
   "cell_type": "code",
   "execution_count": 163,
   "id": "28e42b56",
   "metadata": {},
   "outputs": [
    {
     "name": "stdout",
     "output_type": "stream",
     "text": [
      "{'school': 'UAlbany', 'address': '1400 Washington Ave, Albany, NY 12222', 'phone': '(518) 442-3300'}\n",
      "dict_items([('school', 'UAlbany'), ('address', '1400 Washington Ave, Albany, NY 12222'), ('phone', '(518) 442-3300')])\n",
      "dict_items([('school', 'UAlbany'), ('address', '1400 Washington Ave, Albany, NY 12222'), ('phone', '(518) 442-3301')])\n",
      "dict_keys(['school', 'address', 'phone'])\n",
      "dict_keys(['school', 'address', 'phone', 'type'])\n",
      "dict_values(['UAlbany', '1400 Washington Ave, Albany, NY 12222', '(518) 442-3301', 'Public'])\n",
      "dict_values(['University of Albany', '1400 Washington Ave, Albany, NY 12222', '(518) 442-3301', 'Public'])\n"
     ]
    }
   ],
   "source": [
    "\n",
    "data = {'school': 'UAlbany', 'address': '1400 Washington Ave, Albany, NY 12222', 'phone': '(518) 442-3300'}\n",
    "print(data)\n",
    "x = data.items()\n",
    "print(x)\n",
    "data[\"phone\"] = \"(518) 442-3301\" \n",
    "print(x)\n",
    "y = data.keys()\n",
    "print(y)\n",
    "data[\"type\"] = \"Public\" \n",
    "print(y)\n",
    "z = data.values()\n",
    "print(z)\n",
    "data[\"school\"] = \"University of Albany\"\n",
    "print(z)"
   ]
  },
  {
   "cell_type": "markdown",
   "id": "11dd6845",
   "metadata": {},
   "source": [
    "# Task 5: Data Serialization"
   ]
  },
  {
   "cell_type": "code",
   "execution_count": 189,
   "id": "7bf28f12",
   "metadata": {},
   "outputs": [
    {
     "name": "stdout",
     "output_type": "stream",
     "text": [
      "{'school': 'UAlbany', 'address': '1400 Washington Ave, Albany, NY 12222', 'phone': '(518) 442-3300'}\n",
      "{'school': 'UAlbany', 'address': '1400 Washington Ave, Albany, NY 12222', 'phone': '(518) 442-3300'}\n",
      "dict_items([('school', 'UAlbany'), ('address', '1400 Washington Ave, Albany, NY 12222'), ('phone', '(518) 442-3300')])\n",
      "dict_items([('school', 'UAlbany'), ('address', '1400 Washington Ave, Albany, NY 12222'), ('phone', '(518) 442-3300')])\n",
      "dict_keys(['school', 'address', 'phone'])\n",
      "dict_keys(['school', 'address', 'phone'])\n",
      "dict_values(['UAlbany', '1400 Washington Ave, Albany, NY 12222', '(518) 442-3300'])\n",
      "dict_values(['UAlbany', '1400 Washington Ave, Albany, NY 12222', '(518) 442-3300'])\n"
     ]
    }
   ],
   "source": [
    "\n",
    "data = {'school': 'UAlbany', 'address': '1400 Washington Ave, Albany, NY 12222', 'phone': '(518) 442-3300'}\n",
    "print(data)\n",
    "a = json.dumps(data)\n",
    "f = open(\"/Users/vedantshah/Desktop/AI CS6364/dict.json\",\"w\")\n",
    "f.write(a)\n",
    "f.close()\n",
    "f1 = open(\"/Users/vedantshah/Desktop/AI CS6364/dict.json\",\"r\")\n",
    "b = f1.readline()\n",
    "c = json.loads(b)\n",
    "print(c)\n",
    "x = c.items()\n",
    "print(x)\n",
    "data[\"phone\"] = \"(518) 442-3301\" \n",
    "print(x)\n",
    "y = c.keys()\n",
    "print(y)\n",
    "data[\"type\"] = \"Public\" \n",
    "print(y)\n",
    "z = c.values()\n",
    "print(z)\n",
    "data[\"school\"] = \"University of Albany\"\n",
    "print(z)"
   ]
  },
  {
   "cell_type": "markdown",
   "id": "085d1db2",
   "metadata": {},
   "source": [
    "# Task 6: Data Serialization"
   ]
  },
  {
   "cell_type": "code",
   "execution_count": 171,
   "id": "7b300065",
   "metadata": {},
   "outputs": [
    {
     "name": "stdout",
     "output_type": "stream",
     "text": [
      "[1, 2, 3, 4, 5]\n",
      "{\"school\": \"UAlbany\", \"address\": \"1400 Washington Ave, Albany, NY 12222\", \"phone\": \"(518) 442-3300\"}\n"
     ]
    }
   ],
   "source": [
    "#Task 6: Data Serialization\n",
    "data = {'school': 'UAlbany', 'address': '1400 Washington Ave, Albany, NY 12222', 'phone': '(518) 442-3300'}\n",
    "items =  [1, 2, 3, 4, 5]\n",
    "a = json.dumps(data)\n",
    "f = open(\"/Users/vedantshah/Desktop/AI CS6364/data.json\",\"w\")\n",
    "f.write(str(items))\n",
    "f.write(\"\\n\")\n",
    "f.write(a)\n",
    "f.close()\n",
    "file = open(\"/Users/vedantshah/Desktop/AI CS6364/data.json\",\"r\")\n",
    "for i in file.read().split(\"\\n\"):\n",
    "    print(i)\n",
    "file.close()"
   ]
  },
  {
   "cell_type": "markdown",
   "id": "04df11ed",
   "metadata": {},
   "source": [
    "# Task 7: Data Preprocessing"
   ]
  },
  {
   "cell_type": "code",
   "execution_count": 173,
   "id": "4fb272aa",
   "metadata": {},
   "outputs": [
    {
     "name": "stdout",
     "output_type": "stream",
     "text": [
      "Tweet id of user James Spann  is  429129916446031872\n",
      "Tweet id of user Rocky Mount Telegram  is  429117247307923456\n",
      "Tweet id of user Rania Khalek  is  429315798893461505\n",
      "Tweet id of user Eric Boehlert  is  429079910091476992\n",
      "Tweet id of user The Times of London  is  429030956888899584\n",
      "Tweet id of user The Times of London  is  429152645702352896\n",
      "Tweet id of user WGRZ  is  429016075921940481\n",
      "Tweet id of user persecution.org  is  428898232690044928\n",
      "Tweet id of user Timothy Johnson  is  428956892602191873\n",
      "Tweet id of user Neill Franklin  is  429111068368326656\n",
      "Tweet id of user saramo  is  429167217976958976\n",
      "Tweet id of user Demand Action  is  429379822314614785\n",
      "Tweet id of user DevonCornwall Police  is  429235096919359488\n",
      "Tweet id of user Brady Campaign  is  428986795586383872\n",
      "Tweet id of user Mike Pannett, author  is  429238790310203392\n",
      "Tweet id of user ♚ηοτ ѕо дшεѕомξ♚™   is  429509723516194817\n",
      "Tweet id of user MANISH GUPTA  is  429509617756811264\n",
      "Tweet id of user sneha shanti  is  429509135437017089\n",
      "Tweet id of user harsh deep  is  429509033045659648\n",
      "Tweet id of user Asha Greyjoy  is  429508763708817408\n",
      "Tweet id of user SAI VISHAL  is  429508217303875584\n",
      "Tweet id of user A Mut Bumpin Boosie   is  429508122604883969\n",
      "Tweet id of user kuilu  is  429507949934157824\n",
      "Tweet id of user Pritha  is  429507930975510528\n",
      "Tweet id of user Kay.  is  429507700716613632\n",
      "Tweet id of user Ghulam Rasool  is  429507388056412160\n",
      "Tweet id of user Ghulam Rasool  is  429507387393703936\n",
      "Tweet id of user shivendra gaur  is  429507291763576832\n",
      "Tweet id of user jared  is  429506469214437376\n",
      "Tweet id of user Michelle Henry  is  429506433801924608\n",
      "Tweet id of user AustralianCrimeNews  is  429506012626702336\n",
      "Tweet id of user M  is  429505339621662720\n",
      "Tweet id of user Royal Times Nigeria  is  429505236148174848\n",
      "Tweet id of user J. McGuire  is  429505189544878081\n",
      "Tweet id of user SgtDavid A Tartaglia  is  429505128605818880\n",
      "Tweet id of user AustralianCrimeNews  is  429505116433956864\n",
      "Tweet id of user Bay Area   is  429504618939158528\n",
      "Tweet id of user Joe Mullin  is  429503319321493504\n",
      "Tweet id of user Steven Roark  is  429503199959986177\n",
      "Tweet id of user Ontario News Today  is  429502545145237504\n",
      "Tweet id of user STLtoday  is  429502437460680704\n",
      "Tweet id of user Arpit Upadhayay  is  429502289481449472\n",
      "Tweet id of user #NBAGenius™  is  429502207763836929\n",
      "Tweet id of user Urmila Chauhan  is  429502122015481856\n",
      "Tweet id of user Louisiana News  is  429501723934461952\n",
      "Tweet id of user Kewrious  is  429501695442186240\n",
      "Tweet id of user Raj Bharat  is  429501574805585920\n",
      "Tweet id of user American Hero Radio  is  429501521940598784\n",
      "Tweet id of user San Francisco News  is  429501272786354176\n",
      "Tweet id of user lexi.aoling  is  429501173670739968\n",
      "Tweet id of user Burlingame News  is  429500659553931264\n",
      "Tweet id of user George Vourvoulias  is  429500626821996544\n",
      "Tweet id of user Sarah aka Aunt Sugar  is  429500250303111168\n",
      "Tweet id of user BodyBuildingChemstry  is  429499974507061248\n",
      "Tweet id of user ohminews  is  429499957083897856\n",
      "Tweet id of user Western Lake Erie  is  429499927874789376\n",
      "Tweet id of user David E P Dennis  is  429499891593658368\n",
      "Tweet id of user Bay Area   is  429499566778351616\n",
      "Tweet id of user ToadiedeOgre  is  429499480954531841\n",
      "Tweet id of user Loco_NUTT  is  429499000081760256\n",
      "Tweet id of user Western Lake Erie  is  429498405837369344\n",
      "Tweet id of user The Toledo Blade  is  429498397167734784\n",
      "Tweet id of user AiwNews  is  429497948267765760\n",
      "Tweet id of user Have a GREEN YEAR!  is  429497921277415426\n",
      "Tweet id of user Crime Watch India  is  429497098531115008\n",
      "Tweet id of user Kaleb  is  429496907191181312\n",
      "Tweet id of user BxF Ace  is  429496260790206467\n",
      "Tweet id of user HollyGrove Pharaoh   is  429496119207272448\n",
      "Tweet id of user NOLA.com  is  429495848548847616\n",
      "Tweet id of user Kentucky New Era  is  429495195319951361\n",
      "Tweet id of user Ventura Journal  is  429495172859060224\n",
      "Tweet id of user Louisiana World #LWN  is  429494325622222848\n",
      "Tweet id of user Janie Peveto Johnson  is  429493745243799552\n",
      "Tweet id of user *  is  429493724763389953\n",
      "Tweet id of user Kentucky New Era  is  429493689216679936\n",
      "Tweet id of user NOLA.com Crime News  is  429493026323300352\n",
      "Tweet id of user Springfield MO News  is  429492585606807552\n",
      "Tweet id of user SGF News  is  429492578195472384\n",
      "Tweet id of user LOL  is  429492510801420288\n",
      "Tweet id of user Leeds News  is  429492212674478080\n",
      "Tweet id of user Peter Schroepfer 서반석  is  429491944268374016\n",
      "Tweet id of user Acolyte  is  429491406961250305\n",
      "Tweet id of user The Good Girl  is  429490875685556224\n",
      "Tweet id of user -  is  429489676513054720\n",
      "Tweet id of user -  is  429489649082314752\n",
      "Tweet id of user Avissena  is  429489638408220672\n",
      "Tweet id of user john muriango  is  429489636746878976\n",
      "Tweet id of user Cavin Handoko  is  429489636444884992\n",
      "Tweet id of user Bazar California  is  429489636423897090\n",
      "Tweet id of user -  is  429489636386144256\n",
      "Tweet id of user City of Ridgeland  is  429489380147740672\n",
      "Tweet id of user Sunjay JK  is  429488933169147904\n",
      "Tweet id of user Heather Erickson  is  429488616197193730\n",
      "Tweet id of user Comrade John  is  429488467572056064\n",
      "Tweet id of user Herts Police Rural  is  429488175862808576\n",
      "Tweet id of user The Real Slim Shady  is  429488126608678912\n",
      "Tweet id of user YoungCongressi  is  429487461878992897\n",
      "Tweet id of user carlin skousen  is  429487155757330432\n",
      "Tweet id of user TimesDaily Newspaper  is  429487042423033856\n",
      "Tweet id of user ModernWorld Hub  is  429486947955146752\n",
      "Tweet id of user Arvindgopal  is  429486365659906048\n",
      "Tweet id of user j03  is  429485718771990528\n",
      "Tweet id of user Pranay Khatiwara  is  429485563507654656\n",
      "Tweet id of user Moondamp_Roses  is  429485059242856448\n",
      "Tweet id of user MissingDivision  is  429484915839991808\n",
      "Tweet id of user Felicity Gamelin  is  429484743227625472\n",
      "Tweet id of user Dreamcatchers Radio  is  429484226082525184\n",
      "Tweet id of user kimⒶthi  is  429484187171971072\n",
      "Tweet id of user Yasshveer Raghav  is  429483997932949504\n",
      "Tweet id of user skippy the bkroo  is  429483743066091521\n",
      "Tweet id of user Ontario News Today  is  429483488165654528\n",
      "Tweet id of user Rosebud  is  429482862300397568\n",
      "Tweet id of user Nichole  is  429482630036205568\n",
      "Tweet id of user EZ   is  429482200552067073\n",
      "Tweet id of user Emergency Traffic  is  429482178645606400\n"
     ]
    }
   ],
   "source": [
    "\n",
    "import json\n",
    "file = open(\"/Users/vedantshah/Desktop/AI CS6364/CrimeReport.txt\",'r').readlines()\n",
    "for i in file:\n",
    "    tweet = json.loads(i)\n",
    "    print(\"Tweet id of user\", tweet['user']['name'],\" is \", tweet['id'])    "
   ]
  },
  {
   "cell_type": "markdown",
   "id": "f2cb72ac",
   "metadata": {},
   "source": [
    "# Task 8: Data Preprocessing: tweets filtering"
   ]
  },
  {
   "cell_type": "code",
   "execution_count": 190,
   "id": "a5515dff",
   "metadata": {},
   "outputs": [],
   "source": [
    "\n",
    "import datetime\n",
    "file = \"/Users/vedantshah/Desktop/AI CS6364/task8.data.txt\"\n",
    "tweets = []\n",
    "for line in open(\"/Users/vedantshah/Desktop/AI CS6364/CrimeReport.txt\",'r').readlines() :\n",
    "    tweet = json.loads(line)\n",
    "    tweets.append(tweet)\n",
    "sorted_tweets = sorted(tweets , key = lambda item : datetime.datetime.strptime(item['created_at'], '%a %b %d %H:%M:%S +0000 %Y'))\n",
    "f = open(file, 'w')\n",
    "for tweet in sorted_tweets[-10:]:    \n",
    "    f.write(json.dumps(tweet))\n",
    "    f.write('\\n\\n')\n",
    "f.close()"
   ]
  },
  {
   "cell_type": "markdown",
   "id": "0d16a21e",
   "metadata": {},
   "source": [
    "# Task 9: File operations"
   ]
  },
  {
   "cell_type": "code",
   "execution_count": 193,
   "id": "0ab219d2",
   "metadata": {},
   "outputs": [],
   "source": [
    "import datetime\n",
    "folder=\"/Users/vedantshah/Desktop/AI CS6364/task9-output\"\n",
    "tweets = []\n",
    "for line in open('/Users/vedantshah/Desktop/AI CS6364/CrimeReport.txt').readlines ():\n",
    "    tweet = json.loads(line)\n",
    "    tweets.append(tweet)\n",
    "sorted_tweets = sorted(tweets , key = lambda item : datetime.datetime.strptime(item['created_at'], '%a %b %d %H:%M:%S +0000 %Y'))\n",
    "def return_formatted_date(Date):\n",
    "        return datetime.datetime.strptime(Date, '%a %b %d %H:%M:%S +0000 %Y').strftime('%m-%A-%Y-%H')\n",
    "isExist = os.path.exists(folder)\n",
    "if not isExist:\n",
    "    os.makedirs(folder)\n",
    "\n",
    "ds = set()\n",
    "for tweet in sorted_tweets:    \n",
    "    date = tweet['created_at']\n",
    "    date = return_formatted_date(date)\n",
    "    ds.add(date)\n",
    "\n",
    "dl, dd = list(ds), dict()\n",
    "\n",
    "for i in dl:\n",
    "    with open(folder+\"/\"+i+\".txt\", \"w\") as textfile:\n",
    "        for j in tweets:\n",
    "            if return_formatted_date(j['created_at']) == i:\n",
    "                dd[i] = j\n",
    "                json.dump(j, textfile)\n",
    "                textfile.write(\"\\n\\n\")"
   ]
  }
 ],
 "metadata": {
  "kernelspec": {
   "display_name": "Python 3 (ipykernel)",
   "language": "python",
   "name": "python3"
  },
  "language_info": {
   "codemirror_mode": {
    "name": "ipython",
    "version": 3
   },
   "file_extension": ".py",
   "mimetype": "text/x-python",
   "name": "python",
   "nbconvert_exporter": "python",
   "pygments_lexer": "ipython3",
   "version": "3.8.8"
  }
 },
 "nbformat": 4,
 "nbformat_minor": 5
}
