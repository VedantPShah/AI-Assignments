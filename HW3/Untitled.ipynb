{
 "cells": [
  {
   "cell_type": "code",
   "execution_count": 44,
   "id": "d3afd9ac",
   "metadata": {},
   "outputs": [],
   "source": [
    "import torch\n",
    "import torch.nn as nn\n",
    "import numpy as np\n",
    "import cv2\n",
    "import os\n",
    "import urllib\n",
    "import gzip\n",
    "import time\n",
    "\n",
    "import matplotlib.pyplot as plt\n",
    "from matplotlib.pyplot import imshow\n",
    "from tqdm import tqdm\n",
    "from sklearn.model_selection import train_test_split"
   ]
  },
  {
   "cell_type": "code",
   "execution_count": 45,
   "id": "0e3f9a0f",
   "metadata": {},
   "outputs": [],
   "source": [
    "device = torch.device('cuda' if torch.cuda.is_available() else 'cpu')"
   ]
  },
  {
   "cell_type": "code",
   "execution_count": 46,
   "id": "7b40f3c8",
   "metadata": {},
   "outputs": [],
   "source": [
    "num_epochs = 25\n",
    "learning_rate = 0.001\n",
    "\n",
    "\n",
    "# Data hyperparameters\n",
    "batch_size = 64\n",
    "\n",
    "# Data details\n",
    "\n",
    "train_size = 60000\n",
    "test_size = 10000\n",
    "data_rows = 28\n",
    "data_cols = 28\n",
    "data_classes = 10"
   ]
  },
  {
   "cell_type": "code",
   "execution_count": 47,
   "id": "7f142c23",
   "metadata": {},
   "outputs": [],
   "source": [
    "file_train_data = gzip.open('train-set-images.gz', 'r')\n",
    "file_train_data.read(16)\n",
    "buffer_train_data = file_train_data.read(train_size * data_rows * data_cols)\n",
    "train_data = np.frombuffer(buffer_train_data, dtype=np.uint8).astype(np.int32)\n",
    "train_data = train_data.reshape(train_size, 1, data_rows, data_cols)\n",
    "\n",
    "file_train_labels = gzip.open('train-set-labels.gz', 'r')\n",
    "file_train_labels.read(8)\n",
    "buffer_train_labels = file_train_labels.read(train_size)\n",
    "train_labels = np.frombuffer(buffer_train_labels, dtype=np.uint8).astype(np.int32)\n",
    "\n",
    "file_test_data = gzip.open('test-set-images.gz', 'r')\n",
    "file_test_data.read(16)\n",
    "buffer_test_data = file_test_data.read(test_size * data_rows * data_cols)\n",
    "test_data = np.frombuffer(buffer_test_data, dtype=np.uint8).astype(np.float32)\n",
    "test_data = test_data.reshape(test_size, 1, data_rows, data_cols)\n",
    "\n",
    "file_test_labels = gzip.open('test-set-labels.gz', 'r')\n",
    "file_test_labels.read(8)\n",
    "buffer_test_labels = file_test_labels.read(test_size)\n",
    "test_labels = np.frombuffer(buffer_test_labels, dtype=np.uint8).astype(np.int32)"
   ]
  },
  {
   "cell_type": "code",
   "execution_count": 48,
   "id": "4d55d382",
   "metadata": {},
   "outputs": [],
   "source": [
    "train_data, valid_data, train_labels, valid_labels = train_test_split(train_data, train_labels, test_size=0.1)\n",
    "train_data = torch.Tensor(train_data)\n",
    "train_labels = torch.Tensor(train_labels)\n",
    "valid_data = torch.Tensor(valid_data)\n",
    "valid_labels = torch.Tensor(valid_labels)\n",
    "test_data = torch.Tensor(test_data)\n",
    "test_labels = torch.Tensor(test_labels)\n",
    "\n",
    "train = torch.utils.data.TensorDataset(train_data, train_labels)\n",
    "test = torch.utils.data.TensorDataset(test_data, test_labels)\n",
    "valid = torch.utils.data.TensorDataset(valid_data, valid_labels)\n",
    "\n",
    "train_loader = torch.utils.data.DataLoader(train, batch_size=batch_size)\n",
    "test_loader = torch.utils.data.DataLoader(test, batch_size=batch_size)\n",
    "valid_loader = torch.utils.data.DataLoader(valid, batch_size=batch_size)"
   ]
  },
  {
   "cell_type": "code",
   "execution_count": 53,
   "id": "6221383f",
   "metadata": {},
   "outputs": [],
   "source": [
    "class Q2Model(nn.Module):\n",
    "    def __init__(self, data_classes):\n",
    "        super(Q2Model, self).__init__()\n",
    "\n",
    "        self.cnn_layers = nn.ModuleList([\n",
    "            nn.Conv2d(1, 4, kernel_size=(3,3), stride=(1,1), padding=(1,1), bias=False),\n",
    "            nn.BatchNorm2d(4),\n",
    "            nn.ReLU(),\n",
    "            nn.MaxPool2d(kernel_size=2, stride=2),\n",
    "            nn.Conv2d(4,4, kernel_size=(3,3), stride=(1,1), padding=(1,1), bias=False),\n",
    "            nn.BatchNorm2d(4),\n",
    "            nn.ReLU(),\n",
    "            nn.MaxPool2d(kernel_size=2, stride=2)\n",
    "        ])\n",
    "\n",
    "        self.linear_layers = nn.ModuleList([\n",
    "            nn.Flatten(),\n",
    "            nn.Linear(4 * 7 * 7, data_classes),\n",
    "            nn.Softmax(dim=1)\n",
    "        ])\n",
    "\n",
    "    def forward(self, x):\n",
    "        y = x\n",
    "\n",
    "        for layer in self.cnn_layers:\n",
    "            y = layer(y)\n",
    "\n",
    "        for layer in self.linear_layers:\n",
    "            y = layer(y)\n",
    "        return y"
   ]
  },
  {
   "cell_type": "code",
   "execution_count": 54,
   "id": "72cb6edc",
   "metadata": {},
   "outputs": [],
   "source": [
    "def train_model(model, optimizer, criterion, device, train_loader, test_loader, valid_loader, epochs):\n",
    "    model = model.to(device)\n",
    "    train_losses = []\n",
    "    valid_losses = []\n",
    "    for epoch in range(epochs):\n",
    "        train_loss = 0\n",
    "        n = 0\n",
    "        tq = tqdm(train_loader)\n",
    "        tq.set_description('Epoch {0:d}, Average Train Loss: {1:5.6f}'.format(epoch, 0))\n",
    "        model.train()\n",
    "        for i, data in enumerate(tq):\n",
    "            batch, labels = data\n",
    "            batch, labels = batch.to(device), labels.to(device)\n",
    "\n",
    "            outputs = model(batch)\n",
    "            optimizer.zero_grad()\n",
    "            loss = criterion(outputs, labels.long())\n",
    "            loss.backward()\n",
    "            optimizer.step()\n",
    "            train_loss += loss.item() * len(batch)\n",
    "            n += len(batch)\n",
    "            tq.set_description('Epoch {0:d}, Average Train Loss: {1:5.6f}'.format(epoch,train_loss / n,))\n",
    "        train_losses.append(train_loss / n)\n",
    "        \n",
    "        model.eval()\n",
    "        train_len = 0\n",
    "        train_correct = 0\n",
    "        train_loss = 0\n",
    "        for batch, labels in train_loader:\n",
    "            batch, labels = batch.to(device), labels.to(device)\n",
    "            outputs = model(batch)\n",
    "            _, predicted = torch.max(outputs.data, 1)\n",
    "            loss = criterion(outputs, labels.long())\n",
    "            train_loss += loss.item() * len(batch)\n",
    "            train_len += len(labels)\n",
    "            train_correct += (predicted == labels).sum().item()\n",
    "\n",
    "        valid_loss = 0\n",
    "        valid_len = 0\n",
    "        valid_correct = 0\n",
    "        model.eval()\n",
    "        for batch, labels in valid_loader:\n",
    "            batch, labels = batch.to(device), labels.to(device)\n",
    "            outputs = model(batch)\n",
    "            loss = criterion(outputs, labels.long())\n",
    "            valid_loss += loss.item() * len(batch)\n",
    "            _, predicted = torch.max(outputs.data, 1)\n",
    "            valid_len += len(labels)\n",
    "            valid_correct += (predicted == labels).sum().item()\n",
    "        valid_losses.append(valid_loss / valid_len)\n",
    "        time.sleep(0.1)\n",
    "    print('Valid Accuracy: ', valid_correct / valid_len * 100)\n",
    "    print('Train Accuracy: ', train_correct / train_len * 100)\n",
    "\n",
    "    test_predictions = []\n",
    "    for batch, labels in test_loader:\n",
    "        batch, labels = batch.to(device), labels.to(device)\n",
    "        outputs = model(batch)\n",
    "        _, predicted = torch.max(outputs.data, 1)\n",
    "        test_predictions += list(predicted.data.numpy())\n",
    "    return train_losses, valid_losses, test_predictions\n"
   ]
  },
  {
   "cell_type": "code",
   "execution_count": 55,
   "id": "7c9392cc",
   "metadata": {},
   "outputs": [],
   "source": [
    "def q2():\n",
    "    model = Q2Model(data_classes)\n",
    "    optimizer = torch.optim.Adam(model.parameters(), lr=learning_rate)\n",
    "    criterion = nn.CrossEntropyLoss()\n",
    "    train_losses, valid_losses, test_predictions = train_model(model, optimizer, criterion, device, train_loader,\n",
    "                                                               test_loader, valid_loader, num_epochs)\n",
    "    print('Test Accuracy: ', np.sum(np.array(test_predictions) == test_labels.numpy()) / len(test_predictions) * 100)\n",
    "    epochs_list = list(range(num_epochs))\n",
    "    plt.plot(epochs_list, train_losses, label='Training Loss')\n",
    "    plt.plot(epochs_list, valid_losses, label='Validation Loss')\n",
    "    plt.xlabel('Epoch')\n",
    "    plt.ylabel('Average Loss (Cross Entropy)')\n",
    "    plt.legend()\n",
    "    plt.show()"
   ]
  },
  {
   "cell_type": "code",
   "execution_count": 56,
   "id": "48030e75",
   "metadata": {},
   "outputs": [
    {
     "name": "stderr",
     "output_type": "stream",
     "text": [
      "Epoch 0, Average Train Loss: 1.713410: 100%|█| 844/844 [00:06<00:00, 136.89it/s]\n",
      "Epoch 1, Average Train Loss: 1.616541: 100%|█| 844/844 [00:06<00:00, 138.34it/s]\n",
      "Epoch 2, Average Train Loss: 1.601805: 100%|█| 844/844 [00:06<00:00, 137.58it/s]\n",
      "Epoch 3, Average Train Loss: 1.594580: 100%|█| 844/844 [00:08<00:00, 104.10it/s]\n",
      "Epoch 4, Average Train Loss: 1.589819: 100%|█| 844/844 [00:06<00:00, 137.32it/s]\n",
      "Epoch 5, Average Train Loss: 1.586283: 100%|█| 844/844 [00:06<00:00, 136.12it/s]\n",
      "Epoch 6, Average Train Loss: 1.583496: 100%|█| 844/844 [00:06<00:00, 135.19it/s]\n",
      "Epoch 7, Average Train Loss: 1.581007: 100%|█| 844/844 [00:06<00:00, 135.90it/s]\n",
      "Epoch 8, Average Train Loss: 1.578901: 100%|█| 844/844 [00:06<00:00, 134.37it/s]\n",
      "Epoch 9, Average Train Loss: 1.577251: 100%|█| 844/844 [00:06<00:00, 134.42it/s]\n",
      "Epoch 10, Average Train Loss: 1.575658: 100%|█| 844/844 [00:06<00:00, 133.24it/s\n",
      "Epoch 11, Average Train Loss: 1.574299: 100%|█| 844/844 [00:06<00:00, 134.08it/s\n",
      "Epoch 12, Average Train Loss: 1.573053: 100%|█| 844/844 [00:06<00:00, 133.96it/s\n",
      "Epoch 13, Average Train Loss: 1.572065: 100%|█| 844/844 [00:06<00:00, 132.29it/s\n",
      "Epoch 14, Average Train Loss: 1.571191: 100%|█| 844/844 [00:06<00:00, 134.65it/s\n",
      "Epoch 15, Average Train Loss: 1.570119: 100%|█| 844/844 [00:06<00:00, 131.91it/s\n",
      "Epoch 16, Average Train Loss: 1.569259: 100%|█| 844/844 [00:06<00:00, 140.50it/s\n",
      "Epoch 17, Average Train Loss: 1.568463: 100%|█| 844/844 [00:06<00:00, 137.08it/s\n",
      "Epoch 18, Average Train Loss: 1.567743: 100%|█| 844/844 [00:06<00:00, 134.69it/s\n",
      "Epoch 19, Average Train Loss: 1.567321: 100%|█| 844/844 [00:06<00:00, 138.89it/s\n",
      "Epoch 20, Average Train Loss: 1.566779: 100%|█| 844/844 [00:06<00:00, 134.81it/s\n",
      "Epoch 21, Average Train Loss: 1.566069: 100%|█| 844/844 [00:06<00:00, 132.63it/s\n",
      "Epoch 22, Average Train Loss: 1.565585: 100%|█| 844/844 [00:06<00:00, 140.55it/s\n",
      "Epoch 23, Average Train Loss: 1.565288: 100%|█| 844/844 [00:06<00:00, 138.83it/s\n",
      "Epoch 24, Average Train Loss: 1.564593: 100%|█| 844/844 [00:06<00:00, 136.32it/s\n"
     ]
    },
    {
     "name": "stdout",
     "output_type": "stream",
     "text": [
      "Valid Accuracy:  86.76666666666667\n",
      "Train Accuracy:  88.27592592592592\n",
      "Test Accuracy:  86.53\n"
     ]
    },
    {
     "data": {
      "image/png": "[encoded data removed]",
      "text/plain": [
       "<Figure size 640x480 with 1 Axes>"
      ]
     },
     "metadata": {},
     "output_type": "display_data"
    }
   ],
   "source": [
    "q2()"
   ]
  },
  {
   "cell_type": "code",
   "execution_count": null,
   "id": "f7f18980",
   "metadata": {},
   "outputs": [],
   "source": []
  }
 ],
 "metadata": {
  "kernelspec": {
   "display_name": "Python 3 (ipykernel)",
   "language": "python",
   "name": "python3"
  },
  "language_info": {
   "codemirror_mode": {
    "name": "ipython",
    "version": 3
   },
   "file_extension": ".py",
   "mimetype": "text/x-python",
   "name": "python",
   "nbconvert_exporter": "python",
   "pygments_lexer": "ipython3",
   "version": "3.8.8"
  }
 },
 "nbformat": 4,
 "nbformat_minor": 5
}
